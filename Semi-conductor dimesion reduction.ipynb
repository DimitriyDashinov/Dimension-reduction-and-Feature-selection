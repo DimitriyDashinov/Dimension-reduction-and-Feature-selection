{
 "cells": [
  {
   "cell_type": "markdown",
   "metadata": {},
   "source": [
    "# Semi-conductor dataset\n",
    "The semi-conductor dataset is a large dataset composed of nearly 600 features for testing semi-conductors. For detailed information consult the README.md\n",
    "\n",
    "#### Objective and tasks\n",
    "Our objective is to use the features to predict whether a semi-conductor has passed a validation test. In order to do so we need:\n",
    "1. To reduces the number of features in the dataset either by dimension reduction techniques or by feature selection or by both. \n",
    "2. Predict whether a conductor passed or failed the test\n",
    "3. Validate our predictions. \n",
    "4. Implement a ready to use .py file with the chosen techniques      "
   ]
  },
  {
   "cell_type": "markdown",
   "metadata": {},
   "source": [
    "#### Plan\n",
    "\"I have a plan, its a crazy plan, but a plan non the less\" Angus from the Spy-dog animation\n",
    "\n",
    "Our predictions will be effected essentially by to main decisions: 1. How to reduce the dataset and select the features and 2. What model to use. So our plan might be drawn like this:\n",
    "1. Clean the data\n",
    "2. Apply several dimension reduction or feature selection techniques: \n",
    "    - PCA and used the components as features\n",
    "    - Select the best features via correlations metrics\n",
    "    - Select features via the Boruta algorithm\n",
    "    - Singular Value Decomposition\n",
    "3. Use the end features or components to predict via several models:\n",
    "    - Logistic regression\n",
    "    - Random forest\n",
    "    - Gradient boosting machine\n",
    "4. From step 4 we will have 12 combinations of reduction techniques and models, we may chose the top 3 or 4 of them and fine tune the model via hyperparameter tunning.\n",
    "5. Validate the model\n",
    "\n",
    "Note that there are many dimension reduction techniques and model types out there so my choices here are to some extent arbitrary derived only from my previous experience and current knowledge. So by all means any suggestions to improve this are welcomed.   \n"
   ]
  },
  {
   "cell_type": "markdown",
   "metadata": {},
   "source": [
    "### Import libraries and data"
   ]
  },
  {
   "cell_type": "code",
   "execution_count": 608,
   "metadata": {},
   "outputs": [],
   "source": [
    "import pandas as pd\n",
    "import numpy as np\n",
    "import matplotlib.pyplot as plt"
   ]
  },
  {
   "cell_type": "code",
   "execution_count": 609,
   "metadata": {},
   "outputs": [],
   "source": [
    "df = pd.read_csv(\"uci-secom.csv\")"
   ]
  },
  {
   "cell_type": "code",
   "execution_count": 610,
   "metadata": {},
   "outputs": [
    {
     "data": {
      "text/html": [
       "<div>\n",
       "<style scoped>\n",
       "    .dataframe tbody tr th:only-of-type {\n",
       "        vertical-align: middle;\n",
       "    }\n",
       "\n",
       "    .dataframe tbody tr th {\n",
       "        vertical-align: top;\n",
       "    }\n",
       "\n",
       "    .dataframe thead th {\n",
       "        text-align: right;\n",
       "    }\n",
       "</style>\n",
       "<table border=\"1\" class=\"dataframe\">\n",
       "  <thead>\n",
       "    <tr style=\"text-align: right;\">\n",
       "      <th></th>\n",
       "      <th>Time</th>\n",
       "      <th>0</th>\n",
       "      <th>1</th>\n",
       "      <th>2</th>\n",
       "      <th>3</th>\n",
       "      <th>4</th>\n",
       "      <th>5</th>\n",
       "      <th>6</th>\n",
       "      <th>7</th>\n",
       "      <th>8</th>\n",
       "      <th>...</th>\n",
       "      <th>581</th>\n",
       "      <th>582</th>\n",
       "      <th>583</th>\n",
       "      <th>584</th>\n",
       "      <th>585</th>\n",
       "      <th>586</th>\n",
       "      <th>587</th>\n",
       "      <th>588</th>\n",
       "      <th>589</th>\n",
       "      <th>Pass/Fail</th>\n",
       "    </tr>\n",
       "  </thead>\n",
       "  <tbody>\n",
       "    <tr>\n",
       "      <th>0</th>\n",
       "      <td>2008-07-19 11:55:00</td>\n",
       "      <td>3030.93</td>\n",
       "      <td>2564.00</td>\n",
       "      <td>2187.7333</td>\n",
       "      <td>1411.1265</td>\n",
       "      <td>1.3602</td>\n",
       "      <td>100.0</td>\n",
       "      <td>97.6133</td>\n",
       "      <td>0.1242</td>\n",
       "      <td>1.5005</td>\n",
       "      <td>...</td>\n",
       "      <td>NaN</td>\n",
       "      <td>0.5005</td>\n",
       "      <td>0.0118</td>\n",
       "      <td>0.0035</td>\n",
       "      <td>2.3630</td>\n",
       "      <td>NaN</td>\n",
       "      <td>NaN</td>\n",
       "      <td>NaN</td>\n",
       "      <td>NaN</td>\n",
       "      <td>-1</td>\n",
       "    </tr>\n",
       "    <tr>\n",
       "      <th>1</th>\n",
       "      <td>2008-07-19 12:32:00</td>\n",
       "      <td>3095.78</td>\n",
       "      <td>2465.14</td>\n",
       "      <td>2230.4222</td>\n",
       "      <td>1463.6606</td>\n",
       "      <td>0.8294</td>\n",
       "      <td>100.0</td>\n",
       "      <td>102.3433</td>\n",
       "      <td>0.1247</td>\n",
       "      <td>1.4966</td>\n",
       "      <td>...</td>\n",
       "      <td>208.2045</td>\n",
       "      <td>0.5019</td>\n",
       "      <td>0.0223</td>\n",
       "      <td>0.0055</td>\n",
       "      <td>4.4447</td>\n",
       "      <td>0.0096</td>\n",
       "      <td>0.0201</td>\n",
       "      <td>0.0060</td>\n",
       "      <td>208.2045</td>\n",
       "      <td>-1</td>\n",
       "    </tr>\n",
       "    <tr>\n",
       "      <th>2</th>\n",
       "      <td>2008-07-19 13:17:00</td>\n",
       "      <td>2932.61</td>\n",
       "      <td>2559.94</td>\n",
       "      <td>2186.4111</td>\n",
       "      <td>1698.0172</td>\n",
       "      <td>1.5102</td>\n",
       "      <td>100.0</td>\n",
       "      <td>95.4878</td>\n",
       "      <td>0.1241</td>\n",
       "      <td>1.4436</td>\n",
       "      <td>...</td>\n",
       "      <td>82.8602</td>\n",
       "      <td>0.4958</td>\n",
       "      <td>0.0157</td>\n",
       "      <td>0.0039</td>\n",
       "      <td>3.1745</td>\n",
       "      <td>0.0584</td>\n",
       "      <td>0.0484</td>\n",
       "      <td>0.0148</td>\n",
       "      <td>82.8602</td>\n",
       "      <td>1</td>\n",
       "    </tr>\n",
       "    <tr>\n",
       "      <th>3</th>\n",
       "      <td>2008-07-19 14:43:00</td>\n",
       "      <td>2988.72</td>\n",
       "      <td>2479.90</td>\n",
       "      <td>2199.0333</td>\n",
       "      <td>909.7926</td>\n",
       "      <td>1.3204</td>\n",
       "      <td>100.0</td>\n",
       "      <td>104.2367</td>\n",
       "      <td>0.1217</td>\n",
       "      <td>1.4882</td>\n",
       "      <td>...</td>\n",
       "      <td>73.8432</td>\n",
       "      <td>0.4990</td>\n",
       "      <td>0.0103</td>\n",
       "      <td>0.0025</td>\n",
       "      <td>2.0544</td>\n",
       "      <td>0.0202</td>\n",
       "      <td>0.0149</td>\n",
       "      <td>0.0044</td>\n",
       "      <td>73.8432</td>\n",
       "      <td>-1</td>\n",
       "    </tr>\n",
       "    <tr>\n",
       "      <th>4</th>\n",
       "      <td>2008-07-19 15:22:00</td>\n",
       "      <td>3032.24</td>\n",
       "      <td>2502.87</td>\n",
       "      <td>2233.3667</td>\n",
       "      <td>1326.5200</td>\n",
       "      <td>1.5334</td>\n",
       "      <td>100.0</td>\n",
       "      <td>100.3967</td>\n",
       "      <td>0.1235</td>\n",
       "      <td>1.5031</td>\n",
       "      <td>...</td>\n",
       "      <td>NaN</td>\n",
       "      <td>0.4800</td>\n",
       "      <td>0.4766</td>\n",
       "      <td>0.1045</td>\n",
       "      <td>99.3032</td>\n",
       "      <td>0.0202</td>\n",
       "      <td>0.0149</td>\n",
       "      <td>0.0044</td>\n",
       "      <td>73.8432</td>\n",
       "      <td>-1</td>\n",
       "    </tr>\n",
       "  </tbody>\n",
       "</table>\n",
       "<p>5 rows × 592 columns</p>\n",
       "</div>"
      ],
      "text/plain": [
       "                  Time        0        1          2          3       4      5  \\\n",
       "0  2008-07-19 11:55:00  3030.93  2564.00  2187.7333  1411.1265  1.3602  100.0   \n",
       "1  2008-07-19 12:32:00  3095.78  2465.14  2230.4222  1463.6606  0.8294  100.0   \n",
       "2  2008-07-19 13:17:00  2932.61  2559.94  2186.4111  1698.0172  1.5102  100.0   \n",
       "3  2008-07-19 14:43:00  2988.72  2479.90  2199.0333   909.7926  1.3204  100.0   \n",
       "4  2008-07-19 15:22:00  3032.24  2502.87  2233.3667  1326.5200  1.5334  100.0   \n",
       "\n",
       "          6       7       8  ...       581     582     583     584      585  \\\n",
       "0   97.6133  0.1242  1.5005  ...       NaN  0.5005  0.0118  0.0035   2.3630   \n",
       "1  102.3433  0.1247  1.4966  ...  208.2045  0.5019  0.0223  0.0055   4.4447   \n",
       "2   95.4878  0.1241  1.4436  ...   82.8602  0.4958  0.0157  0.0039   3.1745   \n",
       "3  104.2367  0.1217  1.4882  ...   73.8432  0.4990  0.0103  0.0025   2.0544   \n",
       "4  100.3967  0.1235  1.5031  ...       NaN  0.4800  0.4766  0.1045  99.3032   \n",
       "\n",
       "      586     587     588       589  Pass/Fail  \n",
       "0     NaN     NaN     NaN       NaN         -1  \n",
       "1  0.0096  0.0201  0.0060  208.2045         -1  \n",
       "2  0.0584  0.0484  0.0148   82.8602          1  \n",
       "3  0.0202  0.0149  0.0044   73.8432         -1  \n",
       "4  0.0202  0.0149  0.0044   73.8432         -1  \n",
       "\n",
       "[5 rows x 592 columns]"
      ]
     },
     "execution_count": 610,
     "metadata": {},
     "output_type": "execute_result"
    }
   ],
   "source": [
    "df.head()"
   ]
  },
  {
   "cell_type": "markdown",
   "metadata": {},
   "source": [
    "### Data cleaning"
   ]
  },
  {
   "cell_type": "markdown",
   "metadata": {},
   "source": [
    "Let us first relabel the target column so that the test fail = 0 and the pass = 1 "
   ]
  },
  {
   "cell_type": "code",
   "execution_count": 611,
   "metadata": {},
   "outputs": [],
   "source": [
    "df['Pass/Fail'] = df['Pass/Fail'].replace(to_replace=[-1,1], value=[1,0])"
   ]
  },
  {
   "cell_type": "markdown",
   "metadata": {},
   "source": [
    "##### NaN handling\n",
    "We were warned in the documentation that there are a lot of NaNs in this dataset, let us have a look "
   ]
  },
  {
   "cell_type": "code",
   "execution_count": 612,
   "metadata": {},
   "outputs": [
    {
     "data": {
      "text/plain": [
       "538"
      ]
     },
     "execution_count": 612,
     "metadata": {},
     "output_type": "execute_result"
    }
   ],
   "source": [
    "np.count_nonzero(df.isna().sum())"
   ]
  },
  {
   "cell_type": "markdown",
   "metadata": {},
   "source": [
    "Nearly all the columns have some missing values. "
   ]
  },
  {
   "cell_type": "code",
   "execution_count": 613,
   "metadata": {},
   "outputs": [
    {
     "data": {
      "text/plain": [
       "158    1429\n",
       "292    1429\n",
       "293    1429\n",
       "157    1429\n",
       "85     1341\n",
       "492    1341\n",
       "220    1341\n",
       "358    1341\n",
       "517    1018\n",
       "245    1018\n",
       "246    1018\n",
       "518    1018\n",
       "382    1018\n",
       "516    1018\n",
       "109    1018\n",
       "111    1018\n",
       "244    1018\n",
       "110    1018\n",
       "384    1018\n",
       "383    1018\n",
       "dtype: int64"
      ]
     },
     "execution_count": 613,
     "metadata": {},
     "output_type": "execute_result"
    }
   ],
   "source": [
    "df.isna().sum().sort_values(ascending=False).head(20)"
   ]
  },
  {
   "cell_type": "markdown",
   "metadata": {},
   "source": [
    "We see that there are columns with more NaNs than values, which won't help us in the prediction task, so let us remove all columns where there are more then 40% missing values "
   ]
  },
  {
   "cell_type": "code",
   "execution_count": 614,
   "metadata": {},
   "outputs": [],
   "source": [
    "def percentna(dataframe, threshold):\n",
    "    '''Get a list of column names where the number of NaNs is above a % threshold'''\n",
    "    columns = dataframe.columns[(dataframe.isna().sum()/dataframe.shape[1])>threshold]\n",
    "    return columns.tolist()"
   ]
  },
  {
   "cell_type": "code",
   "execution_count": 615,
   "metadata": {},
   "outputs": [],
   "source": [
    "na_columns = percentna(df, 0.4)"
   ]
  },
  {
   "cell_type": "code",
   "execution_count": 616,
   "metadata": {},
   "outputs": [
    {
     "data": {
      "text/plain": [
       "52"
      ]
     },
     "execution_count": 616,
     "metadata": {},
     "output_type": "execute_result"
    }
   ],
   "source": [
    "len(na_columns)"
   ]
  },
  {
   "cell_type": "markdown",
   "metadata": {},
   "source": [
    "There are 52 features where the number of NaNs is above teh threshold, which is less then 10% of all the features, so let us remove these. Note that I will keep the original data set for later testing."
   ]
  },
  {
   "cell_type": "code",
   "execution_count": 617,
   "metadata": {},
   "outputs": [],
   "source": [
    "df2 = df.drop(na_columns, axis = 1)"
   ]
  },
  {
   "cell_type": "code",
   "execution_count": 618,
   "metadata": {},
   "outputs": [
    {
     "data": {
      "text/plain": [
       "Index(['Time', '0', '1', '2', '3', '4', '5', '6', '7', '8',\n",
       "       ...\n",
       "       '581', '582', '583', '584', '585', '586', '587', '588', '589',\n",
       "       'Pass/Fail'],\n",
       "      dtype='object', length=592)"
      ]
     },
     "execution_count": 618,
     "metadata": {},
     "output_type": "execute_result"
    }
   ],
   "source": [
    "df.columns"
   ]
  },
  {
   "cell_type": "markdown",
   "metadata": {},
   "source": [
    "There is the timestamp column, which does not really give us any value in terms of prediction, so let us drop it as well."
   ]
  },
  {
   "cell_type": "code",
   "execution_count": 619,
   "metadata": {},
   "outputs": [],
   "source": [
    "df = df.drop('Time', axis=1)\n",
    "df2 = df2.drop('Time', axis=1)"
   ]
  },
  {
   "cell_type": "markdown",
   "metadata": {},
   "source": [
    "##### Outliers\n",
    "Before imputing the missing values in the rest of the columns it is a good idea to check for outliers, because when imputing we rely on the existing data points and an outlier can potentially compromise the imputation. So let us apply the common rule of thumb which is that a data point, which is 3*SD away from the mean is considered an outlier.  "
   ]
  },
  {
   "cell_type": "markdown",
   "metadata": {},
   "source": [
    "The awkward moment here is that there are to much features for us to manually visualize them or checkout their descriptive statistics one by one. Let us start by exploring the number of outliers for each feature.  "
   ]
  },
  {
   "cell_type": "code",
   "execution_count": 620,
   "metadata": {},
   "outputs": [],
   "source": [
    "def outlier_explorer(df, columns, n_std):\n",
    "    '''Explore the number of outliers for each column'''\n",
    "    outlier_df = pd.DataFrame()\n",
    "    outlier_count = []\n",
    "    nan_count = [] \n",
    "\n",
    "    for column in columns:\n",
    "        mean = df[column].mean()\n",
    "        sd = df[column].std()\n",
    "        n_outleirs = sum((df2[column] > mean+(3*sd)))\n",
    "        n_nan = df[column].isna().sum()\n",
    "        outlier_count.append(n_outleirs)\n",
    "        nan_count.append(n_nan)\n",
    "\n",
    "    outlier_df['Name'] = columns\n",
    "    outlier_df['Outliers'] = outlier_count\n",
    "    outlier_df['NaNs'] = nan_count\n",
    "\n",
    "    return outlier_df"
   ]
  },
  {
   "cell_type": "code",
   "execution_count": 621,
   "metadata": {},
   "outputs": [
    {
     "data": {
      "text/html": [
       "<div>\n",
       "<style scoped>\n",
       "    .dataframe tbody tr th:only-of-type {\n",
       "        vertical-align: middle;\n",
       "    }\n",
       "\n",
       "    .dataframe tbody tr th {\n",
       "        vertical-align: top;\n",
       "    }\n",
       "\n",
       "    .dataframe thead th {\n",
       "        text-align: right;\n",
       "    }\n",
       "</style>\n",
       "<table border=\"1\" class=\"dataframe\">\n",
       "  <thead>\n",
       "    <tr style=\"text-align: right;\">\n",
       "      <th></th>\n",
       "      <th>Name</th>\n",
       "      <th>Outliers</th>\n",
       "      <th>NaNs</th>\n",
       "    </tr>\n",
       "  </thead>\n",
       "  <tbody>\n",
       "    <tr>\n",
       "      <th>528</th>\n",
       "      <td>576</td>\n",
       "      <td>70</td>\n",
       "      <td>0</td>\n",
       "    </tr>\n",
       "    <tr>\n",
       "      <th>526</th>\n",
       "      <td>574</td>\n",
       "      <td>68</td>\n",
       "      <td>0</td>\n",
       "    </tr>\n",
       "    <tr>\n",
       "      <th>38</th>\n",
       "      <td>38</td>\n",
       "      <td>64</td>\n",
       "      <td>1</td>\n",
       "    </tr>\n",
       "    <tr>\n",
       "      <th>529</th>\n",
       "      <td>577</td>\n",
       "      <td>62</td>\n",
       "      <td>0</td>\n",
       "    </tr>\n",
       "    <tr>\n",
       "      <th>525</th>\n",
       "      <td>573</td>\n",
       "      <td>60</td>\n",
       "      <td>0</td>\n",
       "    </tr>\n",
       "    <tr>\n",
       "      <th>...</th>\n",
       "      <td>...</td>\n",
       "      <td>...</td>\n",
       "      <td>...</td>\n",
       "    </tr>\n",
       "    <tr>\n",
       "      <th>421</th>\n",
       "      <td>444</td>\n",
       "      <td>0</td>\n",
       "      <td>1</td>\n",
       "    </tr>\n",
       "    <tr>\n",
       "      <th>184</th>\n",
       "      <td>193</td>\n",
       "      <td>0</td>\n",
       "      <td>4</td>\n",
       "    </tr>\n",
       "    <tr>\n",
       "      <th>183</th>\n",
       "      <td>192</td>\n",
       "      <td>0</td>\n",
       "      <td>4</td>\n",
       "    </tr>\n",
       "    <tr>\n",
       "      <th>424</th>\n",
       "      <td>447</td>\n",
       "      <td>0</td>\n",
       "      <td>1</td>\n",
       "    </tr>\n",
       "    <tr>\n",
       "      <th>538</th>\n",
       "      <td>Pass/Fail</td>\n",
       "      <td>0</td>\n",
       "      <td>0</td>\n",
       "    </tr>\n",
       "  </tbody>\n",
       "</table>\n",
       "<p>539 rows × 3 columns</p>\n",
       "</div>"
      ],
      "text/plain": [
       "          Name  Outliers  NaNs\n",
       "528        576        70     0\n",
       "526        574        68     0\n",
       "38          38        64     1\n",
       "529        577        62     0\n",
       "525        573        60     0\n",
       "..         ...       ...   ...\n",
       "421        444         0     1\n",
       "184        193         0     4\n",
       "183        192         0     4\n",
       "424        447         0     1\n",
       "538  Pass/Fail         0     0\n",
       "\n",
       "[539 rows x 3 columns]"
      ]
     },
     "execution_count": 621,
     "metadata": {},
     "output_type": "execute_result"
    }
   ],
   "source": [
    "x = outlier_explorer(df2, df2.columns, 3)\n",
    "x.sort_values(by = 'Outliers', ascending=False)\n"
   ]
  },
  {
   "cell_type": "code",
   "execution_count": 622,
   "metadata": {},
   "outputs": [
    {
     "data": {
      "image/png": "[encoded data removed]",
      "text/plain": [
       "<Figure size 640x480 with 1 Axes>"
      ]
     },
     "metadata": {},
     "output_type": "display_data"
    }
   ],
   "source": [
    "plt.hist(x['Outliers'])\n",
    "plt.title('Outlier distribution')\n",
    "plt.xlabel('Count of outliers')\n",
    "plt.ylabel('Count of data points')\n",
    "plt.show()"
   ]
  },
  {
   "cell_type": "code",
   "execution_count": 623,
   "metadata": {},
   "outputs": [
    {
     "data": {
      "text/plain": [
       "13"
      ]
     },
     "execution_count": 623,
     "metadata": {},
     "output_type": "execute_result"
    }
   ],
   "source": [
    "len(x[x['Outliers'] > 40])"
   ]
  },
  {
   "cell_type": "markdown",
   "metadata": {},
   "source": [
    "Most have 0 to 5 outliers, while a very small portion of the features (13 to be exact) have over 40 outliers. These are suspicious and show an obvious visual separation from the other features. Let us look at them more closely.    "
   ]
  },
  {
   "cell_type": "code",
   "execution_count": 624,
   "metadata": {},
   "outputs": [
    {
     "data": {
      "text/html": [
       "<div>\n",
       "<style scoped>\n",
       "    .dataframe tbody tr th:only-of-type {\n",
       "        vertical-align: middle;\n",
       "    }\n",
       "\n",
       "    .dataframe tbody tr th {\n",
       "        vertical-align: top;\n",
       "    }\n",
       "\n",
       "    .dataframe thead th {\n",
       "        text-align: right;\n",
       "    }\n",
       "</style>\n",
       "<table border=\"1\" class=\"dataframe\">\n",
       "  <thead>\n",
       "    <tr style=\"text-align: right;\">\n",
       "      <th></th>\n",
       "      <th>38</th>\n",
       "      <th>139</th>\n",
       "      <th>160</th>\n",
       "      <th>274</th>\n",
       "      <th>295</th>\n",
       "      <th>558</th>\n",
       "      <th>572</th>\n",
       "      <th>573</th>\n",
       "      <th>574</th>\n",
       "      <th>575</th>\n",
       "      <th>576</th>\n",
       "      <th>577</th>\n",
       "      <th>589</th>\n",
       "    </tr>\n",
       "  </thead>\n",
       "  <tbody>\n",
       "    <tr>\n",
       "      <th>count</th>\n",
       "      <td>1566.000000</td>\n",
       "      <td>1553.000000</td>\n",
       "      <td>1565.000000</td>\n",
       "      <td>1553.000000</td>\n",
       "      <td>1565.000000</td>\n",
       "      <td>1566.000000</td>\n",
       "      <td>1567.000000</td>\n",
       "      <td>1567.000000</td>\n",
       "      <td>1567.000000</td>\n",
       "      <td>1567.000000</td>\n",
       "      <td>1567.000000</td>\n",
       "      <td>1567.000000</td>\n",
       "      <td>1566.000000</td>\n",
       "    </tr>\n",
       "    <tr>\n",
       "      <th>mean</th>\n",
       "      <td>86.836577</td>\n",
       "      <td>416.766964</td>\n",
       "      <td>555.346326</td>\n",
       "      <td>136.292426</td>\n",
       "      <td>252.999118</td>\n",
       "      <td>0.995009</td>\n",
       "      <td>28.450165</td>\n",
       "      <td>0.345636</td>\n",
       "      <td>9.162315</td>\n",
       "      <td>0.104729</td>\n",
       "      <td>5.563747</td>\n",
       "      <td>16.642363</td>\n",
       "      <td>99.670066</td>\n",
       "    </tr>\n",
       "    <tr>\n",
       "      <th>std</th>\n",
       "      <td>0.446756</td>\n",
       "      <td>263.300614</td>\n",
       "      <td>574.808588</td>\n",
       "      <td>85.607784</td>\n",
       "      <td>283.530702</td>\n",
       "      <td>0.083860</td>\n",
       "      <td>86.304681</td>\n",
       "      <td>0.248478</td>\n",
       "      <td>26.920150</td>\n",
       "      <td>0.067791</td>\n",
       "      <td>16.921369</td>\n",
       "      <td>12.485267</td>\n",
       "      <td>93.891919</td>\n",
       "    </tr>\n",
       "    <tr>\n",
       "      <th>min</th>\n",
       "      <td>84.732700</td>\n",
       "      <td>0.000000</td>\n",
       "      <td>0.000000</td>\n",
       "      <td>0.000000</td>\n",
       "      <td>0.000000</td>\n",
       "      <td>0.891900</td>\n",
       "      <td>3.540000</td>\n",
       "      <td>0.066700</td>\n",
       "      <td>1.039500</td>\n",
       "      <td>0.023000</td>\n",
       "      <td>0.663600</td>\n",
       "      <td>4.582000</td>\n",
       "      <td>0.000000</td>\n",
       "    </tr>\n",
       "    <tr>\n",
       "      <th>25%</th>\n",
       "      <td>86.578300</td>\n",
       "      <td>243.786000</td>\n",
       "      <td>295.000000</td>\n",
       "      <td>81.215600</td>\n",
       "      <td>130.220300</td>\n",
       "      <td>0.955200</td>\n",
       "      <td>7.500000</td>\n",
       "      <td>0.242250</td>\n",
       "      <td>2.567850</td>\n",
       "      <td>0.075100</td>\n",
       "      <td>1.408450</td>\n",
       "      <td>11.501550</td>\n",
       "      <td>44.368600</td>\n",
       "    </tr>\n",
       "    <tr>\n",
       "      <th>50%</th>\n",
       "      <td>86.820700</td>\n",
       "      <td>339.561000</td>\n",
       "      <td>438.000000</td>\n",
       "      <td>110.601400</td>\n",
       "      <td>195.825600</td>\n",
       "      <td>0.972700</td>\n",
       "      <td>8.650000</td>\n",
       "      <td>0.293400</td>\n",
       "      <td>2.975800</td>\n",
       "      <td>0.089500</td>\n",
       "      <td>1.624500</td>\n",
       "      <td>13.817900</td>\n",
       "      <td>71.900500</td>\n",
       "    </tr>\n",
       "    <tr>\n",
       "      <th>75%</th>\n",
       "      <td>87.002400</td>\n",
       "      <td>502.205900</td>\n",
       "      <td>625.000000</td>\n",
       "      <td>162.038200</td>\n",
       "      <td>273.952600</td>\n",
       "      <td>1.000800</td>\n",
       "      <td>10.130000</td>\n",
       "      <td>0.366900</td>\n",
       "      <td>3.492500</td>\n",
       "      <td>0.112150</td>\n",
       "      <td>1.902000</td>\n",
       "      <td>17.080900</td>\n",
       "      <td>114.749700</td>\n",
       "    </tr>\n",
       "    <tr>\n",
       "      <th>max</th>\n",
       "      <td>88.418800</td>\n",
       "      <td>1770.690900</td>\n",
       "      <td>4170.000000</td>\n",
       "      <td>659.169600</td>\n",
       "      <td>2005.874400</td>\n",
       "      <td>1.512100</td>\n",
       "      <td>454.560000</td>\n",
       "      <td>2.196700</td>\n",
       "      <td>170.020400</td>\n",
       "      <td>0.550200</td>\n",
       "      <td>90.423500</td>\n",
       "      <td>96.960100</td>\n",
       "      <td>737.304800</td>\n",
       "    </tr>\n",
       "  </tbody>\n",
       "</table>\n",
       "</div>"
      ],
      "text/plain": [
       "                38          139          160          274          295  \\\n",
       "count  1566.000000  1553.000000  1565.000000  1553.000000  1565.000000   \n",
       "mean     86.836577   416.766964   555.346326   136.292426   252.999118   \n",
       "std       0.446756   263.300614   574.808588    85.607784   283.530702   \n",
       "min      84.732700     0.000000     0.000000     0.000000     0.000000   \n",
       "25%      86.578300   243.786000   295.000000    81.215600   130.220300   \n",
       "50%      86.820700   339.561000   438.000000   110.601400   195.825600   \n",
       "75%      87.002400   502.205900   625.000000   162.038200   273.952600   \n",
       "max      88.418800  1770.690900  4170.000000   659.169600  2005.874400   \n",
       "\n",
       "               558          572          573          574          575  \\\n",
       "count  1566.000000  1567.000000  1567.000000  1567.000000  1567.000000   \n",
       "mean      0.995009    28.450165     0.345636     9.162315     0.104729   \n",
       "std       0.083860    86.304681     0.248478    26.920150     0.067791   \n",
       "min       0.891900     3.540000     0.066700     1.039500     0.023000   \n",
       "25%       0.955200     7.500000     0.242250     2.567850     0.075100   \n",
       "50%       0.972700     8.650000     0.293400     2.975800     0.089500   \n",
       "75%       1.000800    10.130000     0.366900     3.492500     0.112150   \n",
       "max       1.512100   454.560000     2.196700   170.020400     0.550200   \n",
       "\n",
       "               576          577          589  \n",
       "count  1567.000000  1567.000000  1566.000000  \n",
       "mean      5.563747    16.642363    99.670066  \n",
       "std      16.921369    12.485267    93.891919  \n",
       "min       0.663600     4.582000     0.000000  \n",
       "25%       1.408450    11.501550    44.368600  \n",
       "50%       1.624500    13.817900    71.900500  \n",
       "75%       1.902000    17.080900   114.749700  \n",
       "max      90.423500    96.960100   737.304800  "
      ]
     },
     "execution_count": 624,
     "metadata": {},
     "output_type": "execute_result"
    }
   ],
   "source": [
    "z = x[x['Outliers'] > 40]\n",
    "df2[(z['Name'])].describe()"
   ]
  },
  {
   "cell_type": "code",
   "execution_count": 625,
   "metadata": {},
   "outputs": [
    {
     "data": {
      "image/png": "[encoded data removed]",
      "text/plain": [
       "<Figure size 1400x1200 with 16 Axes>"
      ]
     },
     "metadata": {},
     "output_type": "display_data"
    }
   ],
   "source": [
    "histograms = df2[(z['Name'])].hist(figsize=(14,12), xlabelsize = 9)"
   ]
  },
  {
   "cell_type": "markdown",
   "metadata": {},
   "source": [
    "Looking at these plots visually \"I do not like\" `160`, `295`, `572`, `573`, `574`, `575`, `576`, `577`, in fact 6 of these fall in to sequence and it is quite possible that they are connected. In a dataset with fewer features I would not remove such only because of their distribution graph, but here we have no context for each feature, we do not know what feature `160` is or how is it measured. Since here our objective is to reduce the dimensionality of the dataset first we may comfortably remove some of these.   "
   ]
  },
  {
   "cell_type": "code",
   "execution_count": 626,
   "metadata": {},
   "outputs": [],
   "source": [
    "df2 = df2.drop(['160', '295', '572', '573', '574', '575', '576', '577'], axis=1)"
   ]
  },
  {
   "cell_type": "markdown",
   "metadata": {},
   "source": [
    "I also want to check the relation between number of outliers and number of NaNs (which we still have not imputed). There might be a feature with both a high number of NaNs and outliers. In fact let us sum up the two columns to make a `Bad data point` column"
   ]
  },
  {
   "cell_type": "code",
   "execution_count": 627,
   "metadata": {},
   "outputs": [
    {
     "data": {
      "text/html": [
       "<div>\n",
       "<style scoped>\n",
       "    .dataframe tbody tr th:only-of-type {\n",
       "        vertical-align: middle;\n",
       "    }\n",
       "\n",
       "    .dataframe tbody tr th {\n",
       "        vertical-align: top;\n",
       "    }\n",
       "\n",
       "    .dataframe thead th {\n",
       "        text-align: right;\n",
       "    }\n",
       "</style>\n",
       "<table border=\"1\" class=\"dataframe\">\n",
       "  <thead>\n",
       "    <tr style=\"text-align: right;\">\n",
       "      <th></th>\n",
       "      <th>Name</th>\n",
       "      <th>Outliers</th>\n",
       "      <th>NaNs</th>\n",
       "      <th>Bad data point</th>\n",
       "    </tr>\n",
       "  </thead>\n",
       "  <tbody>\n",
       "    <tr>\n",
       "      <th>472</th>\n",
       "      <td>496</td>\n",
       "      <td>39</td>\n",
       "      <td>51</td>\n",
       "      <td>90</td>\n",
       "    </tr>\n",
       "    <tr>\n",
       "      <th>343</th>\n",
       "      <td>362</td>\n",
       "      <td>25</td>\n",
       "      <td>51</td>\n",
       "      <td>76</td>\n",
       "    </tr>\n",
       "    <tr>\n",
       "      <th>214</th>\n",
       "      <td>224</td>\n",
       "      <td>25</td>\n",
       "      <td>51</td>\n",
       "      <td>76</td>\n",
       "    </tr>\n",
       "    <tr>\n",
       "      <th>528</th>\n",
       "      <td>576</td>\n",
       "      <td>70</td>\n",
       "      <td>0</td>\n",
       "      <td>70</td>\n",
       "    </tr>\n",
       "    <tr>\n",
       "      <th>215</th>\n",
       "      <td>225</td>\n",
       "      <td>18</td>\n",
       "      <td>51</td>\n",
       "      <td>69</td>\n",
       "    </tr>\n",
       "    <tr>\n",
       "      <th>526</th>\n",
       "      <td>574</td>\n",
       "      <td>68</td>\n",
       "      <td>0</td>\n",
       "      <td>68</td>\n",
       "    </tr>\n",
       "    <tr>\n",
       "      <th>473</th>\n",
       "      <td>497</td>\n",
       "      <td>16</td>\n",
       "      <td>51</td>\n",
       "      <td>67</td>\n",
       "    </tr>\n",
       "    <tr>\n",
       "      <th>344</th>\n",
       "      <td>363</td>\n",
       "      <td>15</td>\n",
       "      <td>51</td>\n",
       "      <td>66</td>\n",
       "    </tr>\n",
       "    <tr>\n",
       "      <th>38</th>\n",
       "      <td>38</td>\n",
       "      <td>64</td>\n",
       "      <td>1</td>\n",
       "      <td>65</td>\n",
       "    </tr>\n",
       "    <tr>\n",
       "      <th>260</th>\n",
       "      <td>274</td>\n",
       "      <td>51</td>\n",
       "      <td>14</td>\n",
       "      <td>65</td>\n",
       "    </tr>\n",
       "    <tr>\n",
       "      <th>460</th>\n",
       "      <td>483</td>\n",
       "      <td>39</td>\n",
       "      <td>24</td>\n",
       "      <td>63</td>\n",
       "    </tr>\n",
       "    <tr>\n",
       "      <th>529</th>\n",
       "      <td>577</td>\n",
       "      <td>62</td>\n",
       "      <td>0</td>\n",
       "      <td>62</td>\n",
       "    </tr>\n",
       "    <tr>\n",
       "      <th>524</th>\n",
       "      <td>572</td>\n",
       "      <td>60</td>\n",
       "      <td>0</td>\n",
       "      <td>60</td>\n",
       "    </tr>\n",
       "    <tr>\n",
       "      <th>525</th>\n",
       "      <td>573</td>\n",
       "      <td>60</td>\n",
       "      <td>0</td>\n",
       "      <td>60</td>\n",
       "    </tr>\n",
       "    <tr>\n",
       "      <th>132</th>\n",
       "      <td>139</td>\n",
       "      <td>46</td>\n",
       "      <td>14</td>\n",
       "      <td>60</td>\n",
       "    </tr>\n",
       "    <tr>\n",
       "      <th>87</th>\n",
       "      <td>90</td>\n",
       "      <td>9</td>\n",
       "      <td>51</td>\n",
       "      <td>60</td>\n",
       "    </tr>\n",
       "    <tr>\n",
       "      <th>518</th>\n",
       "      <td>558</td>\n",
       "      <td>56</td>\n",
       "      <td>1</td>\n",
       "      <td>57</td>\n",
       "    </tr>\n",
       "    <tr>\n",
       "      <th>527</th>\n",
       "      <td>575</td>\n",
       "      <td>57</td>\n",
       "      <td>0</td>\n",
       "      <td>57</td>\n",
       "    </tr>\n",
       "    <tr>\n",
       "      <th>86</th>\n",
       "      <td>89</td>\n",
       "      <td>6</td>\n",
       "      <td>51</td>\n",
       "      <td>57</td>\n",
       "    </tr>\n",
       "    <tr>\n",
       "      <th>151</th>\n",
       "      <td>160</td>\n",
       "      <td>54</td>\n",
       "      <td>2</td>\n",
       "      <td>56</td>\n",
       "    </tr>\n",
       "  </tbody>\n",
       "</table>\n",
       "</div>"
      ],
      "text/plain": [
       "    Name  Outliers  NaNs  Bad data point\n",
       "472  496        39    51              90\n",
       "343  362        25    51              76\n",
       "214  224        25    51              76\n",
       "528  576        70     0              70\n",
       "215  225        18    51              69\n",
       "526  574        68     0              68\n",
       "473  497        16    51              67\n",
       "344  363        15    51              66\n",
       "38    38        64     1              65\n",
       "260  274        51    14              65\n",
       "460  483        39    24              63\n",
       "529  577        62     0              62\n",
       "524  572        60     0              60\n",
       "525  573        60     0              60\n",
       "132  139        46    14              60\n",
       "87    90         9    51              60\n",
       "518  558        56     1              57\n",
       "527  575        57     0              57\n",
       "86    89         6    51              57\n",
       "151  160        54     2              56"
      ]
     },
     "execution_count": 627,
     "metadata": {},
     "output_type": "execute_result"
    }
   ],
   "source": [
    "x['Bad data point'] = x['NaNs'] + x['Outliers']\n",
    "n = x.sort_values(by = 'Bad data point', ascending=False)\n",
    "n.head(20)"
   ]
  },
  {
   "cell_type": "code",
   "execution_count": 628,
   "metadata": {},
   "outputs": [
    {
     "data": {
      "image/png": "[encoded data removed]",
      "text/plain": [
       "<Figure size 640x480 with 1 Axes>"
      ]
     },
     "metadata": {},
     "output_type": "display_data"
    }
   ],
   "source": [
    "plt.hist(x['Bad data point'])\n",
    "plt.title('Bad data points distribution')\n",
    "plt.xlabel('Bad data points')\n",
    "plt.ylabel('Count of data points')\n",
    "plt.show()"
   ]
  },
  {
   "cell_type": "code",
   "execution_count": 629,
   "metadata": {},
   "outputs": [
    {
     "data": {
      "text/plain": [
       "1567"
      ]
     },
     "execution_count": 629,
     "metadata": {},
     "output_type": "execute_result"
    }
   ],
   "source": [
    "len(df2)"
   ]
  },
  {
   "cell_type": "markdown",
   "metadata": {},
   "source": [
    "Sixteen features have >= 60 Bad data points. We already removed 5 of these features in the last step. Currently our dataset has 1567 observations so for such features about 3.8% of the data is either Nan or an outlier. That is ok as a whole, just out of curiosity let us explore there 11 features further.  "
   ]
  },
  {
   "cell_type": "code",
   "execution_count": 636,
   "metadata": {},
   "outputs": [
    {
     "data": {
      "text/html": [
       "<div>\n",
       "<style scoped>\n",
       "    .dataframe tbody tr th:only-of-type {\n",
       "        vertical-align: middle;\n",
       "    }\n",
       "\n",
       "    .dataframe tbody tr th {\n",
       "        vertical-align: top;\n",
       "    }\n",
       "\n",
       "    .dataframe thead th {\n",
       "        text-align: right;\n",
       "    }\n",
       "</style>\n",
       "<table border=\"1\" class=\"dataframe\">\n",
       "  <thead>\n",
       "    <tr style=\"text-align: right;\">\n",
       "      <th></th>\n",
       "      <th>38</th>\n",
       "      <th>90</th>\n",
       "      <th>139</th>\n",
       "      <th>224</th>\n",
       "      <th>225</th>\n",
       "      <th>274</th>\n",
       "      <th>362</th>\n",
       "      <th>363</th>\n",
       "      <th>483</th>\n",
       "      <th>496</th>\n",
       "      <th>497</th>\n",
       "    </tr>\n",
       "  </thead>\n",
       "  <tbody>\n",
       "    <tr>\n",
       "      <th>count</th>\n",
       "      <td>1566.000000</td>\n",
       "      <td>1516.000000</td>\n",
       "      <td>1553.000000</td>\n",
       "      <td>1516.000000</td>\n",
       "      <td>1516.000000</td>\n",
       "      <td>1553.000000</td>\n",
       "      <td>1516.000000</td>\n",
       "      <td>1516.000000</td>\n",
       "      <td>1543.000000</td>\n",
       "      <td>1516.000000</td>\n",
       "      <td>1516.000000</td>\n",
       "    </tr>\n",
       "    <tr>\n",
       "      <th>mean</th>\n",
       "      <td>86.836577</td>\n",
       "      <td>8827.536865</td>\n",
       "      <td>416.766964</td>\n",
       "      <td>0.059370</td>\n",
       "      <td>1041.056588</td>\n",
       "      <td>136.292426</td>\n",
       "      <td>0.018383</td>\n",
       "      <td>333.319601</td>\n",
       "      <td>206.564196</td>\n",
       "      <td>29.865896</td>\n",
       "      <td>11.821030</td>\n",
       "    </tr>\n",
       "    <tr>\n",
       "      <th>std</th>\n",
       "      <td>0.446756</td>\n",
       "      <td>396.313662</td>\n",
       "      <td>263.300614</td>\n",
       "      <td>0.071211</td>\n",
       "      <td>433.170076</td>\n",
       "      <td>85.607784</td>\n",
       "      <td>0.021644</td>\n",
       "      <td>138.801928</td>\n",
       "      <td>192.864413</td>\n",
       "      <td>24.621586</td>\n",
       "      <td>4.956647</td>\n",
       "    </tr>\n",
       "    <tr>\n",
       "      <th>min</th>\n",
       "      <td>84.732700</td>\n",
       "      <td>7397.310000</td>\n",
       "      <td>0.000000</td>\n",
       "      <td>0.009300</td>\n",
       "      <td>168.799800</td>\n",
       "      <td>0.000000</td>\n",
       "      <td>0.002800</td>\n",
       "      <td>60.988200</td>\n",
       "      <td>0.000000</td>\n",
       "      <td>4.813500</td>\n",
       "      <td>1.949600</td>\n",
       "    </tr>\n",
       "    <tr>\n",
       "      <th>25%</th>\n",
       "      <td>86.578300</td>\n",
       "      <td>8564.689975</td>\n",
       "      <td>243.786000</td>\n",
       "      <td>0.029775</td>\n",
       "      <td>718.725350</td>\n",
       "      <td>81.215600</td>\n",
       "      <td>0.009500</td>\n",
       "      <td>228.682525</td>\n",
       "      <td>81.316150</td>\n",
       "      <td>16.342300</td>\n",
       "      <td>8.150350</td>\n",
       "    </tr>\n",
       "    <tr>\n",
       "      <th>50%</th>\n",
       "      <td>86.820700</td>\n",
       "      <td>8825.435100</td>\n",
       "      <td>339.561000</td>\n",
       "      <td>0.039800</td>\n",
       "      <td>967.299800</td>\n",
       "      <td>110.601400</td>\n",
       "      <td>0.012500</td>\n",
       "      <td>309.831650</td>\n",
       "      <td>148.317500</td>\n",
       "      <td>22.039100</td>\n",
       "      <td>10.906550</td>\n",
       "    </tr>\n",
       "    <tr>\n",
       "      <th>75%</th>\n",
       "      <td>87.002400</td>\n",
       "      <td>9065.432400</td>\n",
       "      <td>502.205900</td>\n",
       "      <td>0.061300</td>\n",
       "      <td>1261.299800</td>\n",
       "      <td>162.038200</td>\n",
       "      <td>0.018600</td>\n",
       "      <td>412.329775</td>\n",
       "      <td>262.865250</td>\n",
       "      <td>32.438475</td>\n",
       "      <td>14.469050</td>\n",
       "    </tr>\n",
       "    <tr>\n",
       "      <th>max</th>\n",
       "      <td>88.418800</td>\n",
       "      <td>10746.600000</td>\n",
       "      <td>1770.690900</td>\n",
       "      <td>1.436100</td>\n",
       "      <td>3601.299800</td>\n",
       "      <td>659.169600</td>\n",
       "      <td>0.416300</td>\n",
       "      <td>1072.203100</td>\n",
       "      <td>989.473700</td>\n",
       "      <td>219.643600</td>\n",
       "      <td>40.281800</td>\n",
       "    </tr>\n",
       "  </tbody>\n",
       "</table>\n",
       "</div>"
      ],
      "text/plain": [
       "                38            90          139          224          225  \\\n",
       "count  1566.000000   1516.000000  1553.000000  1516.000000  1516.000000   \n",
       "mean     86.836577   8827.536865   416.766964     0.059370  1041.056588   \n",
       "std       0.446756    396.313662   263.300614     0.071211   433.170076   \n",
       "min      84.732700   7397.310000     0.000000     0.009300   168.799800   \n",
       "25%      86.578300   8564.689975   243.786000     0.029775   718.725350   \n",
       "50%      86.820700   8825.435100   339.561000     0.039800   967.299800   \n",
       "75%      87.002400   9065.432400   502.205900     0.061300  1261.299800   \n",
       "max      88.418800  10746.600000  1770.690900     1.436100  3601.299800   \n",
       "\n",
       "               274          362          363          483          496  \\\n",
       "count  1553.000000  1516.000000  1516.000000  1543.000000  1516.000000   \n",
       "mean    136.292426     0.018383   333.319601   206.564196    29.865896   \n",
       "std      85.607784     0.021644   138.801928   192.864413    24.621586   \n",
       "min       0.000000     0.002800    60.988200     0.000000     4.813500   \n",
       "25%      81.215600     0.009500   228.682525    81.316150    16.342300   \n",
       "50%     110.601400     0.012500   309.831650   148.317500    22.039100   \n",
       "75%     162.038200     0.018600   412.329775   262.865250    32.438475   \n",
       "max     659.169600     0.416300  1072.203100   989.473700   219.643600   \n",
       "\n",
       "               497  \n",
       "count  1516.000000  \n",
       "mean     11.821030  \n",
       "std       4.956647  \n",
       "min       1.949600  \n",
       "25%       8.150350  \n",
       "50%      10.906550  \n",
       "75%      14.469050  \n",
       "max      40.281800  "
      ]
     },
     "execution_count": 636,
     "metadata": {},
     "output_type": "execute_result"
    }
   ],
   "source": [
    "g = x[~x['Name'].isin(['160', '295', '572', '573', '574', '575', '576', '577'])]\n",
    "h = g[g['Bad data point'] >= 60]\n",
    "df2[(h['Name'])].describe()"
   ]
  },
  {
   "cell_type": "code",
   "execution_count": 637,
   "metadata": {},
   "outputs": [
    {
     "data": {
      "image/png": "[encoded data removed]",
      "text/plain": [
       "<Figure size 1400x1200 with 12 Axes>"
      ]
     },
     "metadata": {},
     "output_type": "display_data"
    }
   ],
   "source": [
    "histograms = df2[(h['Name'])].hist(figsize=(14,12), xlabelsize = 9)"
   ]
  },
  {
   "cell_type": "markdown",
   "metadata": {},
   "source": [
    "I believe that the imputation of NaNs and Outliers should suffice for these 11, no need to remove the whole features"
   ]
  },
  {
   "cell_type": "code",
   "execution_count": 542,
   "metadata": {},
   "outputs": [],
   "source": [
    "def outlier_remover(df, columns, n_std):\n",
    "    '''Removes outliers for all columns in a dataset, which keeping NaN values'''\n",
    "    for column in columns:\n",
    "        mean = df[column].mean()\n",
    "        sd = df[column].std()\n",
    "        df = df[((df[column] <= mean+(n_std*sd))) | df[column].isna()]        \n",
    "    return df"
   ]
  },
  {
   "cell_type": "code",
   "execution_count": 543,
   "metadata": {},
   "outputs": [
    {
     "data": {
      "text/plain": [
       "1567"
      ]
     },
     "execution_count": 543,
     "metadata": {},
     "output_type": "execute_result"
    }
   ],
   "source": [
    "len(df2)"
   ]
  },
  {
   "cell_type": "code",
   "execution_count": 544,
   "metadata": {},
   "outputs": [],
   "source": [
    "df2 = outlier_remover(df2, df2.columns,3) "
   ]
  },
  {
   "cell_type": "code",
   "execution_count": 545,
   "metadata": {},
   "outputs": [
    {
     "data": {
      "text/plain": [
       "91"
      ]
     },
     "execution_count": 545,
     "metadata": {},
     "output_type": "execute_result"
    }
   ],
   "source": [
    "len(df2)"
   ]
  }
 ],
 "metadata": {
  "kernelspec": {
   "display_name": "Python 3",
   "language": "python",
   "name": "python3"
  },
  "language_info": {
   "codemirror_mode": {
    "name": "ipython",
    "version": 3
   },
   "file_extension": ".py",
   "mimetype": "text/x-python",
   "name": "python",
   "nbconvert_exporter": "python",
   "pygments_lexer": "ipython3",
   "version": "3.11.3"
  }
 },
 "nbformat": 4,
 "nbformat_minor": 2
}
